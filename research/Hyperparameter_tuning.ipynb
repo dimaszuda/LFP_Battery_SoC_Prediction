{
  "cells": [
    {
      "cell_type": "markdown",
      "metadata": {
        "id": "view-in-github",
        "colab_type": "text"
      },
      "source": [
        "<a href=\"https://colab.research.google.com/github/dimaszuda/LFP_Battery_SoC_Prediction/blob/main/Hyperparameter_tuning.ipynb\" target=\"_parent\"><img src=\"https://colab.research.google.com/assets/colab-badge.svg\" alt=\"Open In Colab\"/></a>"
      ]
    },
    {
      "cell_type": "code",
      "execution_count": null,
      "metadata": {
        "colab": {
          "base_uri": "https://localhost:8080/"
        },
        "id": "sfrXSMmI1blS",
        "outputId": "006931f8-14e3-47ef-a6a8-fc620766ea2c"
      },
      "outputs": [
        {
          "output_type": "stream",
          "name": "stdout",
          "text": [
            "Looking in indexes: https://pypi.org/simple, https://us-python.pkg.dev/colab-wheels/public/simple/\n",
            "Collecting keras_tuner\n",
            "  Downloading keras_tuner-1.3.5-py3-none-any.whl (176 kB)\n",
            "\u001b[2K     \u001b[90m━━━━━━━━━━━━━━━━━━━━━━━━━━━━━━━━━━━━━━\u001b[0m \u001b[32m176.1/176.1 kB\u001b[0m \u001b[31m11.4 MB/s\u001b[0m eta \u001b[36m0:00:00\u001b[0m\n",
            "\u001b[?25hRequirement already satisfied: packaging in /usr/local/lib/python3.10/dist-packages (from keras_tuner) (23.1)\n",
            "Requirement already satisfied: requests in /usr/local/lib/python3.10/dist-packages (from keras_tuner) (2.27.1)\n",
            "Collecting kt-legacy (from keras_tuner)\n",
            "  Downloading kt_legacy-1.0.5-py3-none-any.whl (9.6 kB)\n",
            "Requirement already satisfied: urllib3<1.27,>=1.21.1 in /usr/local/lib/python3.10/dist-packages (from requests->keras_tuner) (1.26.15)\n",
            "Requirement already satisfied: certifi>=2017.4.17 in /usr/local/lib/python3.10/dist-packages (from requests->keras_tuner) (2022.12.7)\n",
            "Requirement already satisfied: charset-normalizer~=2.0.0 in /usr/local/lib/python3.10/dist-packages (from requests->keras_tuner) (2.0.12)\n",
            "Requirement already satisfied: idna<4,>=2.5 in /usr/local/lib/python3.10/dist-packages (from requests->keras_tuner) (3.4)\n",
            "Installing collected packages: kt-legacy, keras_tuner\n",
            "Successfully installed keras_tuner-1.3.5 kt-legacy-1.0.5\n"
          ]
        }
      ],
      "source": [
        "import tensorflow as tf\n",
        "from matplotlib import pyplot as plt\n",
        "import pandas as pd\n",
        "from sklearn.preprocessing import MinMaxScaler\n",
        "from tensorflow import keras\n",
        "from tensorflow.keras import layers\n",
        "!pip install keras_tuner\n",
        "from keras_tuner import GridSearch\n",
        "from keras_tuner import HyperParameters\n",
        "from tensorflow.keras.optimizers import SGD, Adam, RMSprop, Adamax\n",
        "from io import StringIO"
      ]
    },
    {
      "cell_type": "code",
      "execution_count": null,
      "metadata": {
        "id": "NR3Hil3p2LlF"
      },
      "outputs": [],
      "source": [
        "df = pd.ExcelFile('Data Bersih.xlsx').parse()"
      ]
    },
    {
      "cell_type": "code",
      "execution_count": null,
      "metadata": {
        "id": "95nOv9jOxIqI"
      },
      "outputs": [],
      "source": [
        "dt = pd.ExcelFile('data test.xlsx').parse()"
      ]
    },
    {
      "cell_type": "code",
      "execution_count": null,
      "metadata": {
        "colab": {
          "base_uri": "https://localhost:8080/",
          "height": 206
        },
        "id": "FuOIkwekC4Jb",
        "outputId": "b8389ac4-cf05-4bad-b9a4-604f62a4890b"
      },
      "outputs": [
        {
          "output_type": "execute_result",
          "data": {
            "text/plain": [
              "   CycleID Step_Type    C_Rate  Voltage(V)  Current(mA)  Cap(mAh)  SoC (%)\n",
              "0        1    CC_Chg  0.503168     3.32923      899.479   0.00000    0.000\n",
              "1        1    CC_Chg  0.503113     3.33115      899.380   0.24983    0.014\n",
              "2        1    CC_Chg  0.503113     3.33414      899.380   0.49966    0.028\n",
              "3        1    CC_Chg  0.503113     3.33697      899.380   0.74951    0.042\n",
              "4        1    CC_Chg  0.503168     3.33905      899.479   0.99937    0.056"
            ],
            "text/html": [
              "\n",
              "  <div id=\"df-421aaa06-3e92-449d-bd08-089eb90a0db9\">\n",
              "    <div class=\"colab-df-container\">\n",
              "      <div>\n",
              "<style scoped>\n",
              "    .dataframe tbody tr th:only-of-type {\n",
              "        vertical-align: middle;\n",
              "    }\n",
              "\n",
              "    .dataframe tbody tr th {\n",
              "        vertical-align: top;\n",
              "    }\n",
              "\n",
              "    .dataframe thead th {\n",
              "        text-align: right;\n",
              "    }\n",
              "</style>\n",
              "<table border=\"1\" class=\"dataframe\">\n",
              "  <thead>\n",
              "    <tr style=\"text-align: right;\">\n",
              "      <th></th>\n",
              "      <th>CycleID</th>\n",
              "      <th>Step_Type</th>\n",
              "      <th>C_Rate</th>\n",
              "      <th>Voltage(V)</th>\n",
              "      <th>Current(mA)</th>\n",
              "      <th>Cap(mAh)</th>\n",
              "      <th>SoC (%)</th>\n",
              "    </tr>\n",
              "  </thead>\n",
              "  <tbody>\n",
              "    <tr>\n",
              "      <th>0</th>\n",
              "      <td>1</td>\n",
              "      <td>CC_Chg</td>\n",
              "      <td>0.503168</td>\n",
              "      <td>3.32923</td>\n",
              "      <td>899.479</td>\n",
              "      <td>0.00000</td>\n",
              "      <td>0.000</td>\n",
              "    </tr>\n",
              "    <tr>\n",
              "      <th>1</th>\n",
              "      <td>1</td>\n",
              "      <td>CC_Chg</td>\n",
              "      <td>0.503113</td>\n",
              "      <td>3.33115</td>\n",
              "      <td>899.380</td>\n",
              "      <td>0.24983</td>\n",
              "      <td>0.014</td>\n",
              "    </tr>\n",
              "    <tr>\n",
              "      <th>2</th>\n",
              "      <td>1</td>\n",
              "      <td>CC_Chg</td>\n",
              "      <td>0.503113</td>\n",
              "      <td>3.33414</td>\n",
              "      <td>899.380</td>\n",
              "      <td>0.49966</td>\n",
              "      <td>0.028</td>\n",
              "    </tr>\n",
              "    <tr>\n",
              "      <th>3</th>\n",
              "      <td>1</td>\n",
              "      <td>CC_Chg</td>\n",
              "      <td>0.503113</td>\n",
              "      <td>3.33697</td>\n",
              "      <td>899.380</td>\n",
              "      <td>0.74951</td>\n",
              "      <td>0.042</td>\n",
              "    </tr>\n",
              "    <tr>\n",
              "      <th>4</th>\n",
              "      <td>1</td>\n",
              "      <td>CC_Chg</td>\n",
              "      <td>0.503168</td>\n",
              "      <td>3.33905</td>\n",
              "      <td>899.479</td>\n",
              "      <td>0.99937</td>\n",
              "      <td>0.056</td>\n",
              "    </tr>\n",
              "  </tbody>\n",
              "</table>\n",
              "</div>\n",
              "      <button class=\"colab-df-convert\" onclick=\"convertToInteractive('df-421aaa06-3e92-449d-bd08-089eb90a0db9')\"\n",
              "              title=\"Convert this dataframe to an interactive table.\"\n",
              "              style=\"display:none;\">\n",
              "        \n",
              "  <svg xmlns=\"http://www.w3.org/2000/svg\" height=\"24px\"viewBox=\"0 0 24 24\"\n",
              "       width=\"24px\">\n",
              "    <path d=\"M0 0h24v24H0V0z\" fill=\"none\"/>\n",
              "    <path d=\"M18.56 5.44l.94 2.06.94-2.06 2.06-.94-2.06-.94-.94-2.06-.94 2.06-2.06.94zm-11 1L8.5 8.5l.94-2.06 2.06-.94-2.06-.94L8.5 2.5l-.94 2.06-2.06.94zm10 10l.94 2.06.94-2.06 2.06-.94-2.06-.94-.94-2.06-.94 2.06-2.06.94z\"/><path d=\"M17.41 7.96l-1.37-1.37c-.4-.4-.92-.59-1.43-.59-.52 0-1.04.2-1.43.59L10.3 9.45l-7.72 7.72c-.78.78-.78 2.05 0 2.83L4 21.41c.39.39.9.59 1.41.59.51 0 1.02-.2 1.41-.59l7.78-7.78 2.81-2.81c.8-.78.8-2.07 0-2.86zM5.41 20L4 18.59l7.72-7.72 1.47 1.35L5.41 20z\"/>\n",
              "  </svg>\n",
              "      </button>\n",
              "      \n",
              "  <style>\n",
              "    .colab-df-container {\n",
              "      display:flex;\n",
              "      flex-wrap:wrap;\n",
              "      gap: 12px;\n",
              "    }\n",
              "\n",
              "    .colab-df-convert {\n",
              "      background-color: #E8F0FE;\n",
              "      border: none;\n",
              "      border-radius: 50%;\n",
              "      cursor: pointer;\n",
              "      display: none;\n",
              "      fill: #1967D2;\n",
              "      height: 32px;\n",
              "      padding: 0 0 0 0;\n",
              "      width: 32px;\n",
              "    }\n",
              "\n",
              "    .colab-df-convert:hover {\n",
              "      background-color: #E2EBFA;\n",
              "      box-shadow: 0px 1px 2px rgba(60, 64, 67, 0.3), 0px 1px 3px 1px rgba(60, 64, 67, 0.15);\n",
              "      fill: #174EA6;\n",
              "    }\n",
              "\n",
              "    [theme=dark] .colab-df-convert {\n",
              "      background-color: #3B4455;\n",
              "      fill: #D2E3FC;\n",
              "    }\n",
              "\n",
              "    [theme=dark] .colab-df-convert:hover {\n",
              "      background-color: #434B5C;\n",
              "      box-shadow: 0px 1px 3px 1px rgba(0, 0, 0, 0.15);\n",
              "      filter: drop-shadow(0px 1px 2px rgba(0, 0, 0, 0.3));\n",
              "      fill: #FFFFFF;\n",
              "    }\n",
              "  </style>\n",
              "\n",
              "      <script>\n",
              "        const buttonEl =\n",
              "          document.querySelector('#df-421aaa06-3e92-449d-bd08-089eb90a0db9 button.colab-df-convert');\n",
              "        buttonEl.style.display =\n",
              "          google.colab.kernel.accessAllowed ? 'block' : 'none';\n",
              "\n",
              "        async function convertToInteractive(key) {\n",
              "          const element = document.querySelector('#df-421aaa06-3e92-449d-bd08-089eb90a0db9');\n",
              "          const dataTable =\n",
              "            await google.colab.kernel.invokeFunction('convertToInteractive',\n",
              "                                                     [key], {});\n",
              "          if (!dataTable) return;\n",
              "\n",
              "          const docLinkHtml = 'Like what you see? Visit the ' +\n",
              "            '<a target=\"_blank\" href=https://colab.research.google.com/notebooks/data_table.ipynb>data table notebook</a>'\n",
              "            + ' to learn more about interactive tables.';\n",
              "          element.innerHTML = '';\n",
              "          dataTable['output_type'] = 'display_data';\n",
              "          await google.colab.output.renderOutput(dataTable, element);\n",
              "          const docLink = document.createElement('div');\n",
              "          docLink.innerHTML = docLinkHtml;\n",
              "          element.appendChild(docLink);\n",
              "        }\n",
              "      </script>\n",
              "    </div>\n",
              "  </div>\n",
              "  "
            ]
          },
          "metadata": {},
          "execution_count": 4
        }
      ],
      "source": [
        "df.head()"
      ]
    },
    {
      "cell_type": "code",
      "execution_count": null,
      "metadata": {
        "id": "FxrYzaXQQQA4"
      },
      "outputs": [],
      "source": [
        "columns = ['CycleID',\n",
        "           'Current(mA)',\n",
        "           'Voltage(V)',\n",
        "           'Cap(mAh)']"
      ]
    },
    {
      "cell_type": "code",
      "execution_count": null,
      "metadata": {
        "id": "MEqCb1w-Qf5Q"
      },
      "outputs": [],
      "source": [
        "X_train = df[columns]\n",
        "y_train = df['SoC (%)'].values.reshape(-1,1)"
      ]
    },
    {
      "cell_type": "code",
      "execution_count": null,
      "metadata": {
        "id": "QRTdi4IbQ9EG"
      },
      "outputs": [],
      "source": [
        "scaler = MinMaxScaler()"
      ]
    },
    {
      "cell_type": "code",
      "execution_count": null,
      "metadata": {
        "id": "SM7aTAlgRB55"
      },
      "outputs": [],
      "source": [
        "X_train = scaler.fit_transform(X_train)\n",
        "X_train = pd.DataFrame(X_train, columns=columns)"
      ]
    },
    {
      "cell_type": "code",
      "execution_count": null,
      "metadata": {
        "id": "lC0ySUqRRkTr"
      },
      "outputs": [],
      "source": [
        "y_train = scaler.fit_transform(y_train)\n",
        "y_train = pd.DataFrame(y_train, columns=['SoC (%)'])"
      ]
    },
    {
      "cell_type": "code",
      "execution_count": null,
      "metadata": {
        "colab": {
          "background_save": true
        },
        "id": "qALp3w-fxOnd"
      },
      "outputs": [],
      "source": [
        "X_test = dt[columns]\n",
        "y_test = dt['SoC (%)'].values.reshape(-1,1)"
      ]
    },
    {
      "cell_type": "code",
      "execution_count": null,
      "metadata": {
        "colab": {
          "background_save": true
        },
        "id": "P_CdjX8yyLA0"
      },
      "outputs": [],
      "source": [
        "X_test = scaler.fit_transform(X_test)\n",
        "X_test = pd.DataFrame(X_test, columns=columns)"
      ]
    },
    {
      "cell_type": "code",
      "execution_count": null,
      "metadata": {
        "colab": {
          "background_save": true
        },
        "id": "6TXaoMkQySxK"
      },
      "outputs": [],
      "source": [
        "y_test = scaler.fit_transform(y_test)\n",
        "y_test = pd.DataFrame(y_test, columns=['SoC (%)'])"
      ]
    },
    {
      "cell_type": "code",
      "execution_count": null,
      "metadata": {
        "id": "TEofCwqCsevE"
      },
      "outputs": [],
      "source": [
        "def build_model(hp):\n",
        "  model = tf.keras.models.Sequential()\n",
        "  model.add(layers.Input(shape=(4)))\n",
        "\n",
        "  for i in range(hp.Choice(name='num_layers', values=[3])):\n",
        "    model.add(layers.Dense(units=hp.Choice(f'num_of_neurons_{i}', values=[4, 8, 16, 32]), \n",
        "          activation='relu'))\n",
        "  model.add(layers.Dense(1, activation=hp.Choice('activation', values=['sigmoid'])))\n",
        "\n",
        "  optimizers = hp.Choice('optimizer', values=['rmsprop'])\n",
        "  learning_rate = hp.Choice('learning_rate', values=[1e-3])\n",
        "\n",
        "  if optimizers == 'rmsprop':\n",
        "    optimizer = RMSprop(learning_rate=learning_rate)\n",
        "  elif optimizers == 'adam':\n",
        "    optimizer = Adam(learning_rate=learning_rate)\n",
        "  elif optimizers == 'sgd':\n",
        "    optimizer = SGD(learning_rate=learning_rate)\n",
        "  else:\n",
        "    optimizer = Adamax(learning_rate=learning_rate) \n",
        "\n",
        "  model.compile(loss='mae',\n",
        "                optimizer=optimizer,\n",
        "                metrics=['mse'])\n",
        "  \n",
        "  return model"
      ]
    },
    {
      "cell_type": "code",
      "execution_count": null,
      "metadata": {
        "id": "b2HnRz0cNi_Q"
      },
      "outputs": [],
      "source": [
        "tuner = GridSearch(\n",
        "    build_model,\n",
        "    objective='loss',\n",
        "    executions_per_trial=2,\n",
        "    directory='tuner_model2',\n",
        "    project_name='Skripsi'\n",
        ")"
      ]
    },
    {
      "cell_type": "code",
      "execution_count": null,
      "metadata": {
        "colab": {
          "base_uri": "https://localhost:8080/"
        },
        "id": "glzWLHfKWLmf",
        "outputId": "d5193809-aa53-4e33-e51d-46601bbaeb6d"
      },
      "outputs": [
        {
          "output_type": "stream",
          "name": "stdout",
          "text": [
            "Trial 64 Complete [00h 03m 18s]\n",
            "loss: 0.009037800133228302\n",
            "\n",
            "Best loss So Far: 0.008670924697071314\n",
            "Total elapsed time: 04h 13m 16s\n"
          ]
        }
      ],
      "source": [
        "tuner.search_space_summary()\n",
        "tuner.search(\n",
        "    X_train,\n",
        "    y_train,\n",
        "    epochs=8,\n",
        ")"
      ]
    },
    {
      "cell_type": "code",
      "execution_count": null,
      "metadata": {
        "id": "QwF686V4uYJ9"
      },
      "outputs": [],
      "source": [
        "trials = tuner.oracle.get_best_trials(num_trials=64)"
      ]
    },
    {
      "cell_type": "code",
      "execution_count": null,
      "metadata": {
        "id": "GuUHgPiNydxT"
      },
      "outputs": [],
      "source": [
        "trial_id = []\n",
        "hyperparameters = []\n",
        "loss = []"
      ]
    },
    {
      "cell_type": "code",
      "execution_count": null,
      "metadata": {
        "id": "nOg0zJgZCfbV"
      },
      "outputs": [],
      "source": [
        "import json"
      ]
    },
    {
      "cell_type": "code",
      "execution_count": null,
      "metadata": {
        "id": "GLSWbS8I5CH1"
      },
      "outputs": [],
      "source": [
        "for trial in trials:\n",
        "  trial_id.append(trial.trial_id)\n",
        "  hyperparameters.append(trial.hyperparameters.values)\n",
        "  loss.append(json.dumps(trial.score))"
      ]
    },
    {
      "cell_type": "code",
      "execution_count": null,
      "metadata": {
        "id": "8VyVak-eWs7t"
      },
      "outputs": [],
      "source": [
        "oke = pd.DataFrame(hyperparameters)"
      ]
    },
    {
      "cell_type": "code",
      "execution_count": null,
      "metadata": {
        "id": "azwwxN1HYw2J"
      },
      "outputs": [],
      "source": [
        "oke.insert(0, 'trial_id', trial_id)"
      ]
    },
    {
      "cell_type": "code",
      "execution_count": null,
      "metadata": {
        "id": "0ZNKXf5TY7Uk"
      },
      "outputs": [],
      "source": [
        "oke['loss'] = loss"
      ]
    },
    {
      "cell_type": "code",
      "execution_count": null,
      "metadata": {
        "id": "3hnpuiNAbjCY"
      },
      "outputs": [],
      "source": [
        "simpan = oke.to_excel('Percobaan Model_Skripsi_Dimas_17.xlsx', index=False)"
      ]
    },
    {
      "cell_type": "code",
      "source": [
        "try:\n",
        "    files.download('Percobaan Model_Skripsi_Dimas_17.xlsx')\n",
        "except:\n",
        "    pass"
      ],
      "metadata": {
        "id": "ytM-pEYF2l8C"
      },
      "execution_count": null,
      "outputs": []
    },
    {
      "cell_type": "code",
      "execution_count": null,
      "metadata": {
        "id": "wgeQo3B_tRob"
      },
      "outputs": [],
      "source": [
        "best_models = tuner.get_best_models(num_models=2)\n",
        "best_hyperparameters = tuner.get_best_hyperparameters(1)[0]"
      ]
    },
    {
      "cell_type": "code",
      "execution_count": null,
      "metadata": {
        "colab": {
          "base_uri": "https://localhost:8080/"
        },
        "id": "XPXSou_DtUYY",
        "outputId": "763586dd-c8c9-489a-da9e-7602eee4395c"
      },
      "outputs": [
        {
          "name": "stdout",
          "output_type": "stream",
          "text": [
            "{'num_layers': 2, 'num_of_neurons_0': 32, 'num_of_neurons_1': 32, 'activation': 'tanh', 'optimizer': 'rmsprop', 'learning_rate': 0.001}\n"
          ]
        }
      ],
      "source": [
        "print(best_hyperparameters.values)"
      ]
    },
    {
      "cell_type": "code",
      "execution_count": null,
      "metadata": {
        "colab": {
          "base_uri": "https://localhost:8080/"
        },
        "id": "e7EBHrNiYn8w",
        "outputId": "e5dd2e45-198f-470c-fdbe-91b15a3a9b09"
      },
      "outputs": [
        {
          "name": "stdout",
          "output_type": "stream",
          "text": [
            "Model: \"sequential\"\n",
            "_________________________________________________________________\n",
            " Layer (type)                Output Shape              Param #   \n",
            "=================================================================\n",
            " dense (Dense)               (None, 16)                80        \n",
            "                                                                 \n",
            " dense_1 (Dense)             (None, 32)                544       \n",
            "                                                                 \n",
            " dense_2 (Dense)             (None, 1)                 33        \n",
            "                                                                 \n",
            "=================================================================\n",
            "Total params: 657\n",
            "Trainable params: 657\n",
            "Non-trainable params: 0\n",
            "_________________________________________________________________\n",
            "None\n"
          ]
        }
      ],
      "source": [
        "print(best_models[0].summary())"
      ]
    },
    {
      "cell_type": "code",
      "execution_count": null,
      "metadata": {
        "colab": {
          "base_uri": "https://localhost:8080/",
          "height": 172
        },
        "id": "zAvQ22bckT_n",
        "outputId": "786beeba-2a21-45e6-f1d9-09ad55a5ab34"
      },
      "outputs": [
        {
          "ename": "AttributeError",
          "evalue": "ignored",
          "output_type": "error",
          "traceback": [
            "\u001b[0;31m---------------------------------------------------------------------------\u001b[0m",
            "\u001b[0;31mAttributeError\u001b[0m                            Traceback (most recent call last)",
            "\u001b[0;32m<ipython-input-31-1db54f2e2d75>\u001b[0m in \u001b[0;36m<cell line: 1>\u001b[0;34m()\u001b[0m\n\u001b[0;32m----> 1\u001b[0;31m \u001b[0mdata_train\u001b[0m \u001b[0;34m=\u001b[0m \u001b[0mbest_models\u001b[0m\u001b[0;34m.\u001b[0m\u001b[0mfit\u001b[0m\u001b[0;34m(\u001b[0m\u001b[0mX_train\u001b[0m\u001b[0;34m,\u001b[0m \u001b[0my_train\u001b[0m\u001b[0;34m,\u001b[0m \u001b[0mepoch\u001b[0m\u001b[0;34m=\u001b[0m\u001b[0;36m800\u001b[0m\u001b[0;34m,\u001b[0m \u001b[0mbatch_size\u001b[0m\u001b[0;34m=\u001b[0m\u001b[0;36m1000\u001b[0m\u001b[0;34m,\u001b[0m \u001b[0mshuffle\u001b[0m\u001b[0;34m=\u001b[0m\u001b[0;32mFalse\u001b[0m\u001b[0;34m)\u001b[0m\u001b[0;34m\u001b[0m\u001b[0;34m\u001b[0m\u001b[0m\n\u001b[0m",
            "\u001b[0;31mAttributeError\u001b[0m: 'list' object has no attribute 'fit'"
          ]
        }
      ],
      "source": [
        "data_train = best_models.fit(X_train, y_train, epoch=800, batch_size=1000, shuffle=False)"
      ]
    },
    {
      "cell_type": "code",
      "execution_count": null,
      "metadata": {
        "id": "j5BDw7cnxWNY"
      },
      "outputs": [],
      "source": [
        "def plot_history(history, title, xlabel, ylabel):\n",
        "  plt.figure(figsize=(10, 6))\n",
        "  plt.plot(history.history['loss'], 'r')\n",
        "  plt.plot(history.history['mse'], 'b')\n",
        "  plt.plot(history.history['val_loss'], 'g')\n",
        "  plt.plot(history.history['val_mse'], 'y')\n",
        "  plt.title(title)\n",
        "  plt.xlabel(xlabel)\n",
        "  plt.ylabel(ylabel)\n",
        "  plt.legend(['mae', 'mse', 'val_mae', 'val_mse'], loc='upper right')\n",
        "  plt.show()"
      ]
    },
    {
      "cell_type": "code",
      "execution_count": null,
      "metadata": {
        "id": "UTUtPNiDyGZo"
      },
      "outputs": [],
      "source": [
        "plot_history(data_train, 'Plot Training', 'epochs', 'mae, mse, val_mae dan val_mse')"
      ]
    },
    {
      "cell_type": "code",
      "execution_count": null,
      "metadata": {
        "id": "TZTNugbpypGe"
      },
      "outputs": [],
      "source": [
        "data_prediksi = model.predict(X_train)"
      ]
    },
    {
      "cell_type": "code",
      "execution_count": null,
      "metadata": {
        "id": "vGFfK0n5y9cX"
      },
      "outputs": [],
      "source": [
        "predicted_data = pd.DataFrame(data_prediksi, columns=['Predicted'])"
      ]
    },
    {
      "cell_type": "code",
      "execution_count": null,
      "metadata": {
        "id": "cvFDUXGVzGoq"
      },
      "outputs": [],
      "source": [
        "Voltage = X_train['Voltage(V)']"
      ]
    },
    {
      "cell_type": "code",
      "execution_count": null,
      "metadata": {
        "id": "6d8seR_-zgLU"
      },
      "outputs": [],
      "source": [
        "data_Voltage = pd.DataFrame(Voltage, columns=['Voltage(V)'])"
      ]
    },
    {
      "cell_type": "code",
      "execution_count": null,
      "metadata": {
        "id": "jtzII6XRzoKY"
      },
      "outputs": [],
      "source": [
        "predicted_SoC = scaler.inverse_transform(predicted_data)"
      ]
    },
    {
      "cell_type": "code",
      "execution_count": null,
      "metadata": {
        "id": "zQD3wHYqzvHo"
      },
      "outputs": [],
      "source": [
        "def plot_prediksi(step, voltage, judul, sb_x, sb_y):\n",
        "  plt.figure(figsize=(15, 6))\n",
        "  plt.scatter(step, voltage, c='#fc0303')\n",
        "  plt.rcParams['lines.linewidth'] == 43\n",
        "  plt.rcParams['lines.linestyle'] == '-'\n",
        "  plt.rcParams['lines.markersize']**0.5\n",
        "  plt.title(judul)\n",
        "  plt.xlabel(sb_x)\n",
        "  plt.ylabel(sb_y)\n",
        "  plt.show()\n",
        "  return plt"
      ]
    },
    {
      "cell_type": "code",
      "execution_count": null,
      "metadata": {
        "id": "xuZrrfC5z37H"
      },
      "outputs": [],
      "source": [
        "plot_prediksi(predicted_SoC, data_Voltage, 'SoC', 'SoC Prediksi', 'Voltage(V)')"
      ]
    }
  ],
  "metadata": {
    "colab": {
      "provenance": [],
      "authorship_tag": "ABX9TyNZYpYIZKP0JD71h2aM3ZN5",
      "include_colab_link": true
    },
    "kernelspec": {
      "display_name": "Python 3",
      "name": "python3"
    },
    "language_info": {
      "name": "python"
    }
  },
  "nbformat": 4,
  "nbformat_minor": 0
}