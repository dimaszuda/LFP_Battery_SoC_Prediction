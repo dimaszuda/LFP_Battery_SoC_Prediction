{
  "cells": [
    {
      "cell_type": "markdown",
      "metadata": {
        "id": "view-in-github",
        "colab_type": "text"
      },
      "source": [
        "<a href=\"https://colab.research.google.com/github/dimaszuda/LFP_Battery_SoC_Prediction/blob/main/Projek_Skripsi.ipynb\" target=\"_parent\"><img src=\"https://colab.research.google.com/assets/colab-badge.svg\" alt=\"Open In Colab\"/></a>"
      ]
    },
    {
      "cell_type": "code",
      "execution_count": null,
      "metadata": {
        "id": "EHwV7gBvyd1G"
      },
      "outputs": [],
      "source": [
        "import pandas as pd\n",
        "import numpy as np\n",
        "import tensorflow as tf\n",
        "import matplotlib.pyplot as plt\n",
        "from sklearn.preprocessing import MinMaxScaler\n",
        "from sklearn.model_selection import train_test_split"
      ]
    },
    {
      "cell_type": "code",
      "source": [
        "dataframe = pd.ExcelFile(\"ChargeDischarge 18650.xlsx\").parse('record')"
      ],
      "metadata": {
        "id": "vVcjlNbiqGvY"
      },
      "execution_count": null,
      "outputs": []
    },
    {
      "cell_type": "code",
      "source": [
        "dataframe"
      ],
      "metadata": {
        "id": "c3AM--h6Dsdf",
        "outputId": "124a411a-b60a-48a3-ad80-e6f3876e36dc",
        "colab": {
          "base_uri": "https://localhost:8080/",
          "height": 424
        }
      },
      "execution_count": null,
      "outputs": [
        {
          "output_type": "execute_result",
          "data": {
            "text/plain": [
              "        CycleID Step_Type    C_Rate  Voltage(V)  Current(mA)    Cap(mAh)  \\\n",
              "0             1    CC_Chg  0.503168     3.32923      899.479     0.00000   \n",
              "1             1    CC_Chg  0.503113     3.33115      899.380     0.24983   \n",
              "2             1    CC_Chg  0.503113     3.33414      899.380     0.49966   \n",
              "3             1    CC_Chg  0.503113     3.33697      899.380     0.74951   \n",
              "4             1    CC_Chg  0.503168     3.33905      899.479     0.99937   \n",
              "...         ...       ...       ...         ...          ...         ...   \n",
              "219188       25      Rest  0.000000     2.58541        0.000 -1747.64000   \n",
              "219189       25      Rest  0.000000     2.58566        0.000 -1747.64000   \n",
              "219190       25      Rest  0.000000     2.58608        0.000 -1747.64000   \n",
              "219191       25      Rest  0.000000     2.58641        0.000 -1747.64000   \n",
              "219192       25      Rest  0.000000     2.58674        0.000 -1747.64000   \n",
              "\n",
              "        SoC (%)  \n",
              "0         0.000  \n",
              "1         0.014  \n",
              "2         0.028  \n",
              "3         0.042  \n",
              "4         0.056  \n",
              "...         ...  \n",
              "219188    0.127  \n",
              "219189    0.127  \n",
              "219190    0.127  \n",
              "219191    0.127  \n",
              "219192    0.127  \n",
              "\n",
              "[217090 rows x 7 columns]"
            ],
            "text/html": [
              "\n",
              "  <div id=\"df-b99b415e-eddd-4988-81b4-3bb30fa3b0d6\">\n",
              "    <div class=\"colab-df-container\">\n",
              "      <div>\n",
              "<style scoped>\n",
              "    .dataframe tbody tr th:only-of-type {\n",
              "        vertical-align: middle;\n",
              "    }\n",
              "\n",
              "    .dataframe tbody tr th {\n",
              "        vertical-align: top;\n",
              "    }\n",
              "\n",
              "    .dataframe thead th {\n",
              "        text-align: right;\n",
              "    }\n",
              "</style>\n",
              "<table border=\"1\" class=\"dataframe\">\n",
              "  <thead>\n",
              "    <tr style=\"text-align: right;\">\n",
              "      <th></th>\n",
              "      <th>CycleID</th>\n",
              "      <th>Step_Type</th>\n",
              "      <th>C_Rate</th>\n",
              "      <th>Voltage(V)</th>\n",
              "      <th>Current(mA)</th>\n",
              "      <th>Cap(mAh)</th>\n",
              "      <th>SoC (%)</th>\n",
              "    </tr>\n",
              "  </thead>\n",
              "  <tbody>\n",
              "    <tr>\n",
              "      <th>0</th>\n",
              "      <td>1</td>\n",
              "      <td>CC_Chg</td>\n",
              "      <td>0.503168</td>\n",
              "      <td>3.32923</td>\n",
              "      <td>899.479</td>\n",
              "      <td>0.00000</td>\n",
              "      <td>0.000</td>\n",
              "    </tr>\n",
              "    <tr>\n",
              "      <th>1</th>\n",
              "      <td>1</td>\n",
              "      <td>CC_Chg</td>\n",
              "      <td>0.503113</td>\n",
              "      <td>3.33115</td>\n",
              "      <td>899.380</td>\n",
              "      <td>0.24983</td>\n",
              "      <td>0.014</td>\n",
              "    </tr>\n",
              "    <tr>\n",
              "      <th>2</th>\n",
              "      <td>1</td>\n",
              "      <td>CC_Chg</td>\n",
              "      <td>0.503113</td>\n",
              "      <td>3.33414</td>\n",
              "      <td>899.380</td>\n",
              "      <td>0.49966</td>\n",
              "      <td>0.028</td>\n",
              "    </tr>\n",
              "    <tr>\n",
              "      <th>3</th>\n",
              "      <td>1</td>\n",
              "      <td>CC_Chg</td>\n",
              "      <td>0.503113</td>\n",
              "      <td>3.33697</td>\n",
              "      <td>899.380</td>\n",
              "      <td>0.74951</td>\n",
              "      <td>0.042</td>\n",
              "    </tr>\n",
              "    <tr>\n",
              "      <th>4</th>\n",
              "      <td>1</td>\n",
              "      <td>CC_Chg</td>\n",
              "      <td>0.503168</td>\n",
              "      <td>3.33905</td>\n",
              "      <td>899.479</td>\n",
              "      <td>0.99937</td>\n",
              "      <td>0.056</td>\n",
              "    </tr>\n",
              "    <tr>\n",
              "      <th>...</th>\n",
              "      <td>...</td>\n",
              "      <td>...</td>\n",
              "      <td>...</td>\n",
              "      <td>...</td>\n",
              "      <td>...</td>\n",
              "      <td>...</td>\n",
              "      <td>...</td>\n",
              "    </tr>\n",
              "    <tr>\n",
              "      <th>219188</th>\n",
              "      <td>25</td>\n",
              "      <td>Rest</td>\n",
              "      <td>0.000000</td>\n",
              "      <td>2.58541</td>\n",
              "      <td>0.000</td>\n",
              "      <td>-1747.64000</td>\n",
              "      <td>0.127</td>\n",
              "    </tr>\n",
              "    <tr>\n",
              "      <th>219189</th>\n",
              "      <td>25</td>\n",
              "      <td>Rest</td>\n",
              "      <td>0.000000</td>\n",
              "      <td>2.58566</td>\n",
              "      <td>0.000</td>\n",
              "      <td>-1747.64000</td>\n",
              "      <td>0.127</td>\n",
              "    </tr>\n",
              "    <tr>\n",
              "      <th>219190</th>\n",
              "      <td>25</td>\n",
              "      <td>Rest</td>\n",
              "      <td>0.000000</td>\n",
              "      <td>2.58608</td>\n",
              "      <td>0.000</td>\n",
              "      <td>-1747.64000</td>\n",
              "      <td>0.127</td>\n",
              "    </tr>\n",
              "    <tr>\n",
              "      <th>219191</th>\n",
              "      <td>25</td>\n",
              "      <td>Rest</td>\n",
              "      <td>0.000000</td>\n",
              "      <td>2.58641</td>\n",
              "      <td>0.000</td>\n",
              "      <td>-1747.64000</td>\n",
              "      <td>0.127</td>\n",
              "    </tr>\n",
              "    <tr>\n",
              "      <th>219192</th>\n",
              "      <td>25</td>\n",
              "      <td>Rest</td>\n",
              "      <td>0.000000</td>\n",
              "      <td>2.58674</td>\n",
              "      <td>0.000</td>\n",
              "      <td>-1747.64000</td>\n",
              "      <td>0.127</td>\n",
              "    </tr>\n",
              "  </tbody>\n",
              "</table>\n",
              "<p>217090 rows × 7 columns</p>\n",
              "</div>\n",
              "      <button class=\"colab-df-convert\" onclick=\"convertToInteractive('df-b99b415e-eddd-4988-81b4-3bb30fa3b0d6')\"\n",
              "              title=\"Convert this dataframe to an interactive table.\"\n",
              "              style=\"display:none;\">\n",
              "        \n",
              "  <svg xmlns=\"http://www.w3.org/2000/svg\" height=\"24px\"viewBox=\"0 0 24 24\"\n",
              "       width=\"24px\">\n",
              "    <path d=\"M0 0h24v24H0V0z\" fill=\"none\"/>\n",
              "    <path d=\"M18.56 5.44l.94 2.06.94-2.06 2.06-.94-2.06-.94-.94-2.06-.94 2.06-2.06.94zm-11 1L8.5 8.5l.94-2.06 2.06-.94-2.06-.94L8.5 2.5l-.94 2.06-2.06.94zm10 10l.94 2.06.94-2.06 2.06-.94-2.06-.94-.94-2.06-.94 2.06-2.06.94z\"/><path d=\"M17.41 7.96l-1.37-1.37c-.4-.4-.92-.59-1.43-.59-.52 0-1.04.2-1.43.59L10.3 9.45l-7.72 7.72c-.78.78-.78 2.05 0 2.83L4 21.41c.39.39.9.59 1.41.59.51 0 1.02-.2 1.41-.59l7.78-7.78 2.81-2.81c.8-.78.8-2.07 0-2.86zM5.41 20L4 18.59l7.72-7.72 1.47 1.35L5.41 20z\"/>\n",
              "  </svg>\n",
              "      </button>\n",
              "      \n",
              "  <style>\n",
              "    .colab-df-container {\n",
              "      display:flex;\n",
              "      flex-wrap:wrap;\n",
              "      gap: 12px;\n",
              "    }\n",
              "\n",
              "    .colab-df-convert {\n",
              "      background-color: #E8F0FE;\n",
              "      border: none;\n",
              "      border-radius: 50%;\n",
              "      cursor: pointer;\n",
              "      display: none;\n",
              "      fill: #1967D2;\n",
              "      height: 32px;\n",
              "      padding: 0 0 0 0;\n",
              "      width: 32px;\n",
              "    }\n",
              "\n",
              "    .colab-df-convert:hover {\n",
              "      background-color: #E2EBFA;\n",
              "      box-shadow: 0px 1px 2px rgba(60, 64, 67, 0.3), 0px 1px 3px 1px rgba(60, 64, 67, 0.15);\n",
              "      fill: #174EA6;\n",
              "    }\n",
              "\n",
              "    [theme=dark] .colab-df-convert {\n",
              "      background-color: #3B4455;\n",
              "      fill: #D2E3FC;\n",
              "    }\n",
              "\n",
              "    [theme=dark] .colab-df-convert:hover {\n",
              "      background-color: #434B5C;\n",
              "      box-shadow: 0px 1px 3px 1px rgba(0, 0, 0, 0.15);\n",
              "      filter: drop-shadow(0px 1px 2px rgba(0, 0, 0, 0.3));\n",
              "      fill: #FFFFFF;\n",
              "    }\n",
              "  </style>\n",
              "\n",
              "      <script>\n",
              "        const buttonEl =\n",
              "          document.querySelector('#df-b99b415e-eddd-4988-81b4-3bb30fa3b0d6 button.colab-df-convert');\n",
              "        buttonEl.style.display =\n",
              "          google.colab.kernel.accessAllowed ? 'block' : 'none';\n",
              "\n",
              "        async function convertToInteractive(key) {\n",
              "          const element = document.querySelector('#df-b99b415e-eddd-4988-81b4-3bb30fa3b0d6');\n",
              "          const dataTable =\n",
              "            await google.colab.kernel.invokeFunction('convertToInteractive',\n",
              "                                                     [key], {});\n",
              "          if (!dataTable) return;\n",
              "\n",
              "          const docLinkHtml = 'Like what you see? Visit the ' +\n",
              "            '<a target=\"_blank\" href=https://colab.research.google.com/notebooks/data_table.ipynb>data table notebook</a>'\n",
              "            + ' to learn more about interactive tables.';\n",
              "          element.innerHTML = '';\n",
              "          dataTable['output_type'] = 'display_data';\n",
              "          await google.colab.output.renderOutput(dataTable, element);\n",
              "          const docLink = document.createElement('div');\n",
              "          docLink.innerHTML = docLinkHtml;\n",
              "          element.appendChild(docLink);\n",
              "        }\n",
              "      </script>\n",
              "    </div>\n",
              "  </div>\n",
              "  "
            ]
          },
          "metadata": {},
          "execution_count": 137
        }
      ]
    },
    {
      "cell_type": "code",
      "execution_count": null,
      "metadata": {
        "id": "rrSH8_SUbRbE",
        "colab": {
          "base_uri": "https://localhost:8080/",
          "height": 228
        },
        "outputId": "c193a4c0-3079-4209-888d-18312ebc10d6"
      },
      "outputs": [
        {
          "output_type": "execute_result",
          "data": {
            "text/plain": [
              "   CycleID  Step ID Step Type  Record ID    C_Rate Time(h:m:s:ms:us)  \\\n",
              "0        1        1    CC_Chg          1  0.503168   0:00:00:000.000   \n",
              "1        1        1    CC_Chg          2  0.503113   0:00:01:000.000   \n",
              "\n",
              "   Voltage(V)  Current(mA)  Cap(mAh)  Energy(mWh)  Power(mW)  DCIR(mO)  \\\n",
              "0     3.32923      899.479   0.00000      0.00000    2994.58         0   \n",
              "1     3.33115      899.380   0.24983      0.83221    2995.97         0   \n",
              "\n",
              "                      Realtime  Filled Capacity  SoC (%)  \n",
              "0  2022-04-18 14:40:44:000.000         0.000000    0.000  \n",
              "1  2022-04-18 14:40:45:000.000         0.249828    0.014  "
            ],
            "text/html": [
              "\n",
              "  <div id=\"df-832545cd-d113-46b1-9dde-1c2601ad2812\">\n",
              "    <div class=\"colab-df-container\">\n",
              "      <div>\n",
              "<style scoped>\n",
              "    .dataframe tbody tr th:only-of-type {\n",
              "        vertical-align: middle;\n",
              "    }\n",
              "\n",
              "    .dataframe tbody tr th {\n",
              "        vertical-align: top;\n",
              "    }\n",
              "\n",
              "    .dataframe thead th {\n",
              "        text-align: right;\n",
              "    }\n",
              "</style>\n",
              "<table border=\"1\" class=\"dataframe\">\n",
              "  <thead>\n",
              "    <tr style=\"text-align: right;\">\n",
              "      <th></th>\n",
              "      <th>CycleID</th>\n",
              "      <th>Step ID</th>\n",
              "      <th>Step Type</th>\n",
              "      <th>Record ID</th>\n",
              "      <th>C_Rate</th>\n",
              "      <th>Time(h:m:s:ms:us)</th>\n",
              "      <th>Voltage(V)</th>\n",
              "      <th>Current(mA)</th>\n",
              "      <th>Cap(mAh)</th>\n",
              "      <th>Energy(mWh)</th>\n",
              "      <th>Power(mW)</th>\n",
              "      <th>DCIR(mO)</th>\n",
              "      <th>Realtime</th>\n",
              "      <th>Filled Capacity</th>\n",
              "      <th>SoC (%)</th>\n",
              "    </tr>\n",
              "  </thead>\n",
              "  <tbody>\n",
              "    <tr>\n",
              "      <th>0</th>\n",
              "      <td>1</td>\n",
              "      <td>1</td>\n",
              "      <td>CC_Chg</td>\n",
              "      <td>1</td>\n",
              "      <td>0.503168</td>\n",
              "      <td>0:00:00:000.000</td>\n",
              "      <td>3.32923</td>\n",
              "      <td>899.479</td>\n",
              "      <td>0.00000</td>\n",
              "      <td>0.00000</td>\n",
              "      <td>2994.58</td>\n",
              "      <td>0</td>\n",
              "      <td>2022-04-18 14:40:44:000.000</td>\n",
              "      <td>0.000000</td>\n",
              "      <td>0.000</td>\n",
              "    </tr>\n",
              "    <tr>\n",
              "      <th>1</th>\n",
              "      <td>1</td>\n",
              "      <td>1</td>\n",
              "      <td>CC_Chg</td>\n",
              "      <td>2</td>\n",
              "      <td>0.503113</td>\n",
              "      <td>0:00:01:000.000</td>\n",
              "      <td>3.33115</td>\n",
              "      <td>899.380</td>\n",
              "      <td>0.24983</td>\n",
              "      <td>0.83221</td>\n",
              "      <td>2995.97</td>\n",
              "      <td>0</td>\n",
              "      <td>2022-04-18 14:40:45:000.000</td>\n",
              "      <td>0.249828</td>\n",
              "      <td>0.014</td>\n",
              "    </tr>\n",
              "  </tbody>\n",
              "</table>\n",
              "</div>\n",
              "      <button class=\"colab-df-convert\" onclick=\"convertToInteractive('df-832545cd-d113-46b1-9dde-1c2601ad2812')\"\n",
              "              title=\"Convert this dataframe to an interactive table.\"\n",
              "              style=\"display:none;\">\n",
              "        \n",
              "  <svg xmlns=\"http://www.w3.org/2000/svg\" height=\"24px\"viewBox=\"0 0 24 24\"\n",
              "       width=\"24px\">\n",
              "    <path d=\"M0 0h24v24H0V0z\" fill=\"none\"/>\n",
              "    <path d=\"M18.56 5.44l.94 2.06.94-2.06 2.06-.94-2.06-.94-.94-2.06-.94 2.06-2.06.94zm-11 1L8.5 8.5l.94-2.06 2.06-.94-2.06-.94L8.5 2.5l-.94 2.06-2.06.94zm10 10l.94 2.06.94-2.06 2.06-.94-2.06-.94-.94-2.06-.94 2.06-2.06.94z\"/><path d=\"M17.41 7.96l-1.37-1.37c-.4-.4-.92-.59-1.43-.59-.52 0-1.04.2-1.43.59L10.3 9.45l-7.72 7.72c-.78.78-.78 2.05 0 2.83L4 21.41c.39.39.9.59 1.41.59.51 0 1.02-.2 1.41-.59l7.78-7.78 2.81-2.81c.8-.78.8-2.07 0-2.86zM5.41 20L4 18.59l7.72-7.72 1.47 1.35L5.41 20z\"/>\n",
              "  </svg>\n",
              "      </button>\n",
              "      \n",
              "  <style>\n",
              "    .colab-df-container {\n",
              "      display:flex;\n",
              "      flex-wrap:wrap;\n",
              "      gap: 12px;\n",
              "    }\n",
              "\n",
              "    .colab-df-convert {\n",
              "      background-color: #E8F0FE;\n",
              "      border: none;\n",
              "      border-radius: 50%;\n",
              "      cursor: pointer;\n",
              "      display: none;\n",
              "      fill: #1967D2;\n",
              "      height: 32px;\n",
              "      padding: 0 0 0 0;\n",
              "      width: 32px;\n",
              "    }\n",
              "\n",
              "    .colab-df-convert:hover {\n",
              "      background-color: #E2EBFA;\n",
              "      box-shadow: 0px 1px 2px rgba(60, 64, 67, 0.3), 0px 1px 3px 1px rgba(60, 64, 67, 0.15);\n",
              "      fill: #174EA6;\n",
              "    }\n",
              "\n",
              "    [theme=dark] .colab-df-convert {\n",
              "      background-color: #3B4455;\n",
              "      fill: #D2E3FC;\n",
              "    }\n",
              "\n",
              "    [theme=dark] .colab-df-convert:hover {\n",
              "      background-color: #434B5C;\n",
              "      box-shadow: 0px 1px 3px 1px rgba(0, 0, 0, 0.15);\n",
              "      filter: drop-shadow(0px 1px 2px rgba(0, 0, 0, 0.3));\n",
              "      fill: #FFFFFF;\n",
              "    }\n",
              "  </style>\n",
              "\n",
              "      <script>\n",
              "        const buttonEl =\n",
              "          document.querySelector('#df-832545cd-d113-46b1-9dde-1c2601ad2812 button.colab-df-convert');\n",
              "        buttonEl.style.display =\n",
              "          google.colab.kernel.accessAllowed ? 'block' : 'none';\n",
              "\n",
              "        async function convertToInteractive(key) {\n",
              "          const element = document.querySelector('#df-832545cd-d113-46b1-9dde-1c2601ad2812');\n",
              "          const dataTable =\n",
              "            await google.colab.kernel.invokeFunction('convertToInteractive',\n",
              "                                                     [key], {});\n",
              "          if (!dataTable) return;\n",
              "\n",
              "          const docLinkHtml = 'Like what you see? Visit the ' +\n",
              "            '<a target=\"_blank\" href=https://colab.research.google.com/notebooks/data_table.ipynb>data table notebook</a>'\n",
              "            + ' to learn more about interactive tables.';\n",
              "          element.innerHTML = '';\n",
              "          dataTable['output_type'] = 'display_data';\n",
              "          await google.colab.output.renderOutput(dataTable, element);\n",
              "          const docLink = document.createElement('div');\n",
              "          docLink.innerHTML = docLinkHtml;\n",
              "          element.appendChild(docLink);\n",
              "        }\n",
              "      </script>\n",
              "    </div>\n",
              "  </div>\n",
              "  "
            ]
          },
          "metadata": {},
          "execution_count": 111
        }
      ],
      "source": [
        "dataframe.head(2)"
      ]
    },
    {
      "cell_type": "code",
      "execution_count": null,
      "metadata": {
        "id": "JxLIDccVbVNz"
      },
      "outputs": [],
      "source": [
        "dataframe.drop(dataframe.columns[[1, 3, 5, 9, 10, 11, 12, 13]], axis=1, inplace=True)"
      ]
    },
    {
      "cell_type": "code",
      "execution_count": null,
      "metadata": {
        "id": "X_GN03JFcJff"
      },
      "outputs": [],
      "source": [
        "dataframe = dataframe.rename(columns= {'Step Type' : 'Step_Type'})"
      ]
    },
    {
      "cell_type": "code",
      "execution_count": null,
      "metadata": {
        "id": "RT9dU2-Fci-y",
        "colab": {
          "base_uri": "https://localhost:8080/"
        },
        "outputId": "63b5943d-d05b-45fe-caf4-627c054e6122"
      },
      "outputs": [
        {
          "output_type": "execute_result",
          "data": {
            "text/plain": [
              "CycleID          0\n",
              "Step_Type        0\n",
              "C_Rate           0\n",
              "Voltage(V)       0\n",
              "Current(mA)      0\n",
              "Cap(mAh)         0\n",
              "SoC (%)        903\n",
              "dtype: int64"
            ]
          },
          "metadata": {},
          "execution_count": 114
        }
      ],
      "source": [
        "dataframe.isna().sum()"
      ]
    },
    {
      "cell_type": "code",
      "source": [
        "dataframe = dataframe.dropna()"
      ],
      "metadata": {
        "id": "l8E8HwDOL5QE"
      },
      "execution_count": null,
      "outputs": []
    },
    {
      "cell_type": "code",
      "execution_count": null,
      "metadata": {
        "id": "_HaSsWWJcqQV"
      },
      "outputs": [],
      "source": [
        "dataframe = dataframe.drop_duplicates()"
      ]
    },
    {
      "cell_type": "code",
      "execution_count": null,
      "metadata": {
        "id": "JpXBL753PkZK",
        "colab": {
          "base_uri": "https://localhost:8080/",
          "height": 112
        },
        "outputId": "822f12d4-5570-4998-af4b-19fa7b7e19cc"
      },
      "outputs": [
        {
          "output_type": "execute_result",
          "data": {
            "text/plain": [
              "   CycleID Step_Type    C_Rate  Voltage(V)  Current(mA)  Cap(mAh)  SoC (%)\n",
              "0        1    CC_Chg  0.503168     3.32923      899.479   0.00000    0.000\n",
              "1        1    CC_Chg  0.503113     3.33115      899.380   0.24983    0.014"
            ],
            "text/html": [
              "\n",
              "  <div id=\"df-b2717feb-1d56-453b-8563-798a6218e952\">\n",
              "    <div class=\"colab-df-container\">\n",
              "      <div>\n",
              "<style scoped>\n",
              "    .dataframe tbody tr th:only-of-type {\n",
              "        vertical-align: middle;\n",
              "    }\n",
              "\n",
              "    .dataframe tbody tr th {\n",
              "        vertical-align: top;\n",
              "    }\n",
              "\n",
              "    .dataframe thead th {\n",
              "        text-align: right;\n",
              "    }\n",
              "</style>\n",
              "<table border=\"1\" class=\"dataframe\">\n",
              "  <thead>\n",
              "    <tr style=\"text-align: right;\">\n",
              "      <th></th>\n",
              "      <th>CycleID</th>\n",
              "      <th>Step_Type</th>\n",
              "      <th>C_Rate</th>\n",
              "      <th>Voltage(V)</th>\n",
              "      <th>Current(mA)</th>\n",
              "      <th>Cap(mAh)</th>\n",
              "      <th>SoC (%)</th>\n",
              "    </tr>\n",
              "  </thead>\n",
              "  <tbody>\n",
              "    <tr>\n",
              "      <th>0</th>\n",
              "      <td>1</td>\n",
              "      <td>CC_Chg</td>\n",
              "      <td>0.503168</td>\n",
              "      <td>3.32923</td>\n",
              "      <td>899.479</td>\n",
              "      <td>0.00000</td>\n",
              "      <td>0.000</td>\n",
              "    </tr>\n",
              "    <tr>\n",
              "      <th>1</th>\n",
              "      <td>1</td>\n",
              "      <td>CC_Chg</td>\n",
              "      <td>0.503113</td>\n",
              "      <td>3.33115</td>\n",
              "      <td>899.380</td>\n",
              "      <td>0.24983</td>\n",
              "      <td>0.014</td>\n",
              "    </tr>\n",
              "  </tbody>\n",
              "</table>\n",
              "</div>\n",
              "      <button class=\"colab-df-convert\" onclick=\"convertToInteractive('df-b2717feb-1d56-453b-8563-798a6218e952')\"\n",
              "              title=\"Convert this dataframe to an interactive table.\"\n",
              "              style=\"display:none;\">\n",
              "        \n",
              "  <svg xmlns=\"http://www.w3.org/2000/svg\" height=\"24px\"viewBox=\"0 0 24 24\"\n",
              "       width=\"24px\">\n",
              "    <path d=\"M0 0h24v24H0V0z\" fill=\"none\"/>\n",
              "    <path d=\"M18.56 5.44l.94 2.06.94-2.06 2.06-.94-2.06-.94-.94-2.06-.94 2.06-2.06.94zm-11 1L8.5 8.5l.94-2.06 2.06-.94-2.06-.94L8.5 2.5l-.94 2.06-2.06.94zm10 10l.94 2.06.94-2.06 2.06-.94-2.06-.94-.94-2.06-.94 2.06-2.06.94z\"/><path d=\"M17.41 7.96l-1.37-1.37c-.4-.4-.92-.59-1.43-.59-.52 0-1.04.2-1.43.59L10.3 9.45l-7.72 7.72c-.78.78-.78 2.05 0 2.83L4 21.41c.39.39.9.59 1.41.59.51 0 1.02-.2 1.41-.59l7.78-7.78 2.81-2.81c.8-.78.8-2.07 0-2.86zM5.41 20L4 18.59l7.72-7.72 1.47 1.35L5.41 20z\"/>\n",
              "  </svg>\n",
              "      </button>\n",
              "      \n",
              "  <style>\n",
              "    .colab-df-container {\n",
              "      display:flex;\n",
              "      flex-wrap:wrap;\n",
              "      gap: 12px;\n",
              "    }\n",
              "\n",
              "    .colab-df-convert {\n",
              "      background-color: #E8F0FE;\n",
              "      border: none;\n",
              "      border-radius: 50%;\n",
              "      cursor: pointer;\n",
              "      display: none;\n",
              "      fill: #1967D2;\n",
              "      height: 32px;\n",
              "      padding: 0 0 0 0;\n",
              "      width: 32px;\n",
              "    }\n",
              "\n",
              "    .colab-df-convert:hover {\n",
              "      background-color: #E2EBFA;\n",
              "      box-shadow: 0px 1px 2px rgba(60, 64, 67, 0.3), 0px 1px 3px 1px rgba(60, 64, 67, 0.15);\n",
              "      fill: #174EA6;\n",
              "    }\n",
              "\n",
              "    [theme=dark] .colab-df-convert {\n",
              "      background-color: #3B4455;\n",
              "      fill: #D2E3FC;\n",
              "    }\n",
              "\n",
              "    [theme=dark] .colab-df-convert:hover {\n",
              "      background-color: #434B5C;\n",
              "      box-shadow: 0px 1px 3px 1px rgba(0, 0, 0, 0.15);\n",
              "      filter: drop-shadow(0px 1px 2px rgba(0, 0, 0, 0.3));\n",
              "      fill: #FFFFFF;\n",
              "    }\n",
              "  </style>\n",
              "\n",
              "      <script>\n",
              "        const buttonEl =\n",
              "          document.querySelector('#df-b2717feb-1d56-453b-8563-798a6218e952 button.colab-df-convert');\n",
              "        buttonEl.style.display =\n",
              "          google.colab.kernel.accessAllowed ? 'block' : 'none';\n",
              "\n",
              "        async function convertToInteractive(key) {\n",
              "          const element = document.querySelector('#df-b2717feb-1d56-453b-8563-798a6218e952');\n",
              "          const dataTable =\n",
              "            await google.colab.kernel.invokeFunction('convertToInteractive',\n",
              "                                                     [key], {});\n",
              "          if (!dataTable) return;\n",
              "\n",
              "          const docLinkHtml = 'Like what you see? Visit the ' +\n",
              "            '<a target=\"_blank\" href=https://colab.research.google.com/notebooks/data_table.ipynb>data table notebook</a>'\n",
              "            + ' to learn more about interactive tables.';\n",
              "          element.innerHTML = '';\n",
              "          dataTable['output_type'] = 'display_data';\n",
              "          await google.colab.output.renderOutput(dataTable, element);\n",
              "          const docLink = document.createElement('div');\n",
              "          docLink.innerHTML = docLinkHtml;\n",
              "          element.appendChild(docLink);\n",
              "        }\n",
              "      </script>\n",
              "    </div>\n",
              "  </div>\n",
              "  "
            ]
          },
          "metadata": {},
          "execution_count": 117
        }
      ],
      "source": [
        "dataframe.head(2)"
      ]
    },
    {
      "cell_type": "code",
      "execution_count": null,
      "metadata": {
        "id": "YotDFDy6nG8H"
      },
      "outputs": [],
      "source": [
        "def outlier(data, column):\n",
        "  Q1 = data[column].quantile(0.25)\n",
        "  Q3 = data[column].quantile(0.75)\n",
        "  IQR = Q3 - Q1\n",
        "  lwr = Q1 - (1.5*IQR)\n",
        "  upr = Q3 + (1.5*IQR)\n",
        "  return lwr, upr"
      ]
    },
    {
      "cell_type": "code",
      "source": [
        "font = {'family': 'serif',\n",
        "        'color': 'darkred',\n",
        "        'weight': 'bold'\n",
        "        }"
      ],
      "metadata": {
        "id": "85eOyJwbMe_g"
      },
      "execution_count": null,
      "outputs": []
    },
    {
      "cell_type": "code",
      "execution_count": null,
      "metadata": {
        "id": "GDnLQInJodM6"
      },
      "outputs": [],
      "source": [
        "def plot_outlier(data, column):\n",
        "  fig, ax = plt.subplots(figsize=(6, 4))\n",
        "  ax.set_title('Data Outlier')\n",
        "  ax.boxplot(data)\n",
        "  ax.set_aspect(1.5, anchor='C')\n",
        "  ax.set_xticks([y+1 for y in range(len(data))], labels=['Original Data', 'removed outlier', 'fully removed'])\n",
        "  ax.set_xlabel(column, fontdict=font)\n",
        "  plt.show()"
      ]
    },
    {
      "cell_type": "code",
      "execution_count": null,
      "metadata": {
        "id": "ibLRPPm6nj6L"
      },
      "outputs": [],
      "source": [
        "lwr, upr = outlier(dataframe, 'Voltage(V)')\n",
        "dataframe1 = dataframe[~((dataframe['Voltage(V)'] < lwr) | (dataframe['Voltage(V)'] > upr))]"
      ]
    },
    {
      "cell_type": "code",
      "execution_count": null,
      "metadata": {
        "id": "-2nQiYKHo5U1"
      },
      "outputs": [],
      "source": [
        "lwr, upr = outlier(dataframe1, 'Voltage(V)')\n",
        "dataframe2 = dataframe1[~((dataframe1['Voltage(V)'] < lwr) | (dataframe1['Voltage(V)'] > upr))]"
      ]
    },
    {
      "cell_type": "code",
      "execution_count": null,
      "metadata": {
        "id": "H8ki_Ask5dtL"
      },
      "outputs": [],
      "source": [
        "lwr, upr = outlier(dataframe2, 'Voltage(V)')\n",
        "dataframe3 = dataframe2[~((dataframe2['Voltage(V)'] < lwr) | (dataframe2['Voltage(V)'] > upr))]"
      ]
    },
    {
      "cell_type": "code",
      "execution_count": null,
      "metadata": {
        "id": "N6OE7MHGppW9"
      },
      "outputs": [],
      "source": [
        "df1 = dataframe1['Voltage(V)']\n",
        "df2 = dataframe2['Voltage(V)']\n",
        "df3 = dataframe3['Voltage(V)']\n",
        "sample = [df1, df2, df3]"
      ]
    },
    {
      "cell_type": "code",
      "execution_count": null,
      "metadata": {
        "id": "o-ajANXTiAd4",
        "colab": {
          "base_uri": "https://localhost:8080/",
          "height": 312
        },
        "outputId": "646934d7-24d6-40b4-88b1-0e50ddee4417"
      },
      "outputs": [
        {
          "output_type": "display_data",
          "data": {
            "text/plain": [
              "<Figure size 600x400 with 1 Axes>"
            ],
            "image/png": "[encoded data removed]"
          },
          "metadata": {}
        }
      ],
      "source": [
        "plot_outlier(sample, 'Voltage(V)')"
      ]
    },
    {
      "cell_type": "code",
      "source": [
        "charge = dataframe3[(dataframe3['Step_Type'] == 'CC_Chg')]"
      ],
      "metadata": {
        "id": "RJfYfa8aOKHR"
      },
      "execution_count": null,
      "outputs": []
    },
    {
      "cell_type": "code",
      "source": [
        "discharge = dataframe3[(dataframe3['Step_Type'] == 'CC_DChg')]"
      ],
      "metadata": {
        "id": "_qameJL6PT2r"
      },
      "execution_count": null,
      "outputs": []
    },
    {
      "cell_type": "code",
      "source": [
        "cc_dc = charge.append(discharge)"
      ],
      "metadata": {
        "id": "kyQQqZ1IQE8F",
        "colab": {
          "base_uri": "https://localhost:8080/"
        },
        "outputId": "a41f2565-b24f-406f-ade4-dfcfecf9cd7b"
      },
      "execution_count": null,
      "outputs": [
        {
          "output_type": "stream",
          "name": "stderr",
          "text": [
            "<ipython-input-128-b48ebb0d9bb2>:1: FutureWarning: The frame.append method is deprecated and will be removed from pandas in a future version. Use pandas.concat instead.\n",
            "  cc_dc = charge.append(discharge)\n"
          ]
        }
      ]
    },
    {
      "cell_type": "code",
      "source": [
        "save = cc_dc.to_excel('Data Bersih.xlsx', index=False)"
      ],
      "metadata": {
        "id": "VVCkeFss8p3o"
      },
      "execution_count": null,
      "outputs": []
    },
    {
      "cell_type": "code",
      "source": [],
      "metadata": {
        "id": "RZv22IRvDwNJ"
      },
      "execution_count": null,
      "outputs": []
    }
  ],
  "metadata": {
    "colab": {
      "provenance": [],
      "include_colab_link": true
    },
    "kernelspec": {
      "display_name": "Python 3",
      "name": "python3"
    },
    "language_info": {
      "name": "python"
    }
  },
  "nbformat": 4,
  "nbformat_minor": 0
}