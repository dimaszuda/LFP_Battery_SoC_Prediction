{
  "cells": [
    {
      "cell_type": "markdown",
      "metadata": {
        "id": "view-in-github",
        "colab_type": "text"
      },
      "source": [
        "<a href=\"https://colab.research.google.com/github/dimaszuda/LFP_Battery_SoC_Prediction/blob/main/build_model.ipynb\" target=\"_parent\"><img src=\"https://colab.research.google.com/assets/colab-badge.svg\" alt=\"Open In Colab\"/></a>"
      ]
    },
    {
      "cell_type": "code",
      "execution_count": 179,
      "metadata": {
        "id": "EHwV7gBvyd1G"
      },
      "outputs": [],
      "source": [
        "import pandas as pd\n",
        "import numpy as np\n",
        "import tensorflow as tf\n",
        "import matplotlib.pyplot as plt\n",
        "from sklearn.preprocessing import MinMaxScaler\n",
        "from sklearn.model_selection import train_test_split"
      ]
    },
    {
      "cell_type": "code",
      "execution_count": null,
      "metadata": {
        "id": "lJiKD5FhbGYN"
      },
      "outputs": [],
      "source": [
        "dataframe = pd.ExcelFile(\"ChargeDischarge 18650.xlsx\").parse('record')"
      ]
    },
    {
      "cell_type": "code",
      "execution_count": null,
      "metadata": {
        "id": "rrSH8_SUbRbE"
      },
      "outputs": [],
      "source": [
        "dataframe.head(2)"
      ]
    },
    {
      "cell_type": "code",
      "execution_count": null,
      "metadata": {
        "id": "JxLIDccVbVNz"
      },
      "outputs": [],
      "source": [
        "dataframe.drop(dataframe.columns[[1, 3,  4, 6, 10, 11, 12, 13, 14]], axis=1, inplace=True)"
      ]
    },
    {
      "cell_type": "code",
      "execution_count": null,
      "metadata": {
        "id": "X_GN03JFcJff"
      },
      "outputs": [],
      "source": [
        "dataframe = dataframe.rename(columns= {'Step Type' : 'Step_Type'})"
      ]
    },
    {
      "cell_type": "code",
      "execution_count": null,
      "metadata": {
        "id": "RT9dU2-Fci-y"
      },
      "outputs": [],
      "source": [
        "dataframe.isna().sum()"
      ]
    },
    {
      "cell_type": "code",
      "source": [
        "dataframe = dataframe.dropna()"
      ],
      "metadata": {
        "id": "l8E8HwDOL5QE"
      },
      "execution_count": null,
      "outputs": []
    },
    {
      "cell_type": "code",
      "execution_count": null,
      "metadata": {
        "id": "_HaSsWWJcqQV"
      },
      "outputs": [],
      "source": [
        "dataframe = dataframe.drop_duplicates()"
      ]
    },
    {
      "cell_type": "code",
      "execution_count": null,
      "metadata": {
        "id": "JpXBL753PkZK"
      },
      "outputs": [],
      "source": [
        "dataframe.head(2)"
      ]
    },
    {
      "cell_type": "code",
      "execution_count": null,
      "metadata": {
        "id": "YotDFDy6nG8H"
      },
      "outputs": [],
      "source": [
        "def outlier(data, column):\n",
        "  Q1 = data[column].quantile(0.25)\n",
        "  Q3 = data[column].quantile(0.75)\n",
        "  IQR = Q3 - Q1\n",
        "  lwr = Q1 - (1.5*IQR)\n",
        "  upr = Q3 + (1.5*IQR)\n",
        "  return lwr, upr"
      ]
    },
    {
      "cell_type": "code",
      "source": [
        "font = {'family': 'serif',\n",
        "        'color': 'darkred',\n",
        "        'weight': 'bold'\n",
        "        }"
      ],
      "metadata": {
        "id": "85eOyJwbMe_g"
      },
      "execution_count": null,
      "outputs": []
    },
    {
      "cell_type": "code",
      "execution_count": null,
      "metadata": {
        "id": "GDnLQInJodM6"
      },
      "outputs": [],
      "source": [
        "def plot_outlier(data, column):\n",
        "  fig, ax = plt.subplots(figsize=(6, 4))\n",
        "  ax.set_title('Data Outlier')\n",
        "  ax.boxplot(data)\n",
        "  ax.set_aspect(1.5, anchor='C')\n",
        "  ax.set_xticks([y+1 for y in range(len(data))], labels=['Original Data', 'removed outlier', 'fully removed'])\n",
        "  ax.set_xlabel(column, fontdict=font)\n",
        "  plt.show()"
      ]
    },
    {
      "cell_type": "code",
      "execution_count": null,
      "metadata": {
        "id": "ibLRPPm6nj6L"
      },
      "outputs": [],
      "source": [
        "lwr, upr = outlier(dataframe, 'Voltage(V)')\n",
        "dataframe1 = dataframe[~((dataframe['Voltage(V)'] < lwr) | (dataframe['Voltage(V)'] > upr))]"
      ]
    },
    {
      "cell_type": "code",
      "execution_count": null,
      "metadata": {
        "id": "-2nQiYKHo5U1"
      },
      "outputs": [],
      "source": [
        "lwr, upr = outlier(dataframe1, 'Voltage(V)')\n",
        "dataframe2 = dataframe1[~((dataframe1['Voltage(V)'] < lwr) | (dataframe1['Voltage(V)'] > upr))]"
      ]
    },
    {
      "cell_type": "code",
      "execution_count": null,
      "metadata": {
        "id": "H8ki_Ask5dtL"
      },
      "outputs": [],
      "source": [
        "lwr, upr = outlier(dataframe2, 'Voltage(V)')\n",
        "dataframe3 = dataframe2[~((dataframe2['Voltage(V)'] < lwr) | (dataframe2['Voltage(V)'] > upr))]"
      ]
    },
    {
      "cell_type": "code",
      "execution_count": null,
      "metadata": {
        "id": "N6OE7MHGppW9"
      },
      "outputs": [],
      "source": [
        "df1 = dataframe1['Voltage(V)'].dropna()\n",
        "df2 = dataframe2['Voltage(V)'].dropna()\n",
        "df3 = dataframe3['Voltage(V)'].dropna()\n",
        "sample = [df1, df2, df3]"
      ]
    },
    {
      "cell_type": "code",
      "execution_count": null,
      "metadata": {
        "id": "o-ajANXTiAd4"
      },
      "outputs": [],
      "source": [
        "plot_outlier(sample, 'Voltage(V)')"
      ]
    },
    {
      "cell_type": "code",
      "source": [
        "charge = dataframe3[(dataframe3['Step_Type'] == 'CC_Chg')]"
      ],
      "metadata": {
        "id": "RJfYfa8aOKHR"
      },
      "execution_count": null,
      "outputs": []
    },
    {
      "cell_type": "code",
      "source": [
        "discharge = dataframe3[(dataframe3['Step_Type'] == 'CC_DChg')]"
      ],
      "metadata": {
        "id": "_qameJL6PT2r"
      },
      "execution_count": null,
      "outputs": []
    },
    {
      "cell_type": "code",
      "source": [
        "cc_dc = charge.append(discharge)"
      ],
      "metadata": {
        "id": "kyQQqZ1IQE8F"
      },
      "execution_count": null,
      "outputs": []
    },
    {
      "cell_type": "code",
      "source": [
        "c_0_5 = cc_dc[(cc_dc['C_Rate']<1.000000)]\n",
        "c_1 = cc_dc[(cc_dc['C_Rate']>1.000000) & (cc_dc['C_Rate']<2.000000)]\n",
        "c_2 = cc_dc[(cc_dc['C_Rate']>2.000000) & (cc_dc['C_Rate']<3.000000)]\n",
        "c_3 = cc_dc[(cc_dc['C_Rate']>3.000000)]"
      ],
      "metadata": {
        "id": "4SouBIErSq6F"
      },
      "execution_count": null,
      "outputs": []
    },
    {
      "cell_type": "code",
      "source": [
        "len(c_0_5)"
      ],
      "metadata": {
        "id": "yEm_e-EMqiCI"
      },
      "execution_count": null,
      "outputs": []
    },
    {
      "cell_type": "code",
      "source": [
        "len(c_1)"
      ],
      "metadata": {
        "id": "IeUJXxremIG9"
      },
      "execution_count": null,
      "outputs": []
    },
    {
      "cell_type": "code",
      "source": [
        "len(c_2)"
      ],
      "metadata": {
        "id": "Jplka-Moq7vb"
      },
      "execution_count": null,
      "outputs": []
    },
    {
      "cell_type": "code",
      "source": [
        "len(c_3)"
      ],
      "metadata": {
        "id": "_kf4iyMJq987"
      },
      "execution_count": null,
      "outputs": []
    },
    {
      "cell_type": "code",
      "source": [
        "columns = ['CycleID',\n",
        "           'Current(mA)',\n",
        "           'Voltage(V)',\n",
        "           'Cap(mAh)']"
      ],
      "metadata": {
        "id": "FxrYzaXQQQA4"
      },
      "execution_count": null,
      "outputs": []
    },
    {
      "cell_type": "code",
      "source": [
        "dataframe_fitur = cc_dc[columns]\n",
        "dataframe_label = cc_dc['SoC (%)'].values.reshape(-1,1)"
      ],
      "metadata": {
        "id": "MEqCb1w-Qf5Q"
      },
      "execution_count": null,
      "outputs": []
    },
    {
      "cell_type": "code",
      "source": [
        "scaler = MinMaxScaler()"
      ],
      "metadata": {
        "id": "QRTdi4IbQ9EG"
      },
      "execution_count": null,
      "outputs": []
    },
    {
      "cell_type": "code",
      "source": [
        "df_f = scaler.fit_transform(dataframe_fitur)\n",
        "dataframe_fitur = pd.DataFrame(df_f, columns=columns)"
      ],
      "metadata": {
        "id": "SM7aTAlgRB55"
      },
      "execution_count": null,
      "outputs": []
    },
    {
      "cell_type": "code",
      "source": [
        "df_l = scaler.fit_transform(dataframe_label)\n",
        "dataframe_label = pd.DataFrame(df_l, columns=['SoC (%)'])"
      ],
      "metadata": {
        "id": "lC0ySUqRRkTr"
      },
      "execution_count": null,
      "outputs": []
    },
    {
      "cell_type": "code",
      "source": [
        "X_train, X_test, y_train, y_test = train_test_split(dataframe_fitur, dataframe_label, test_size=0.14, random_state=472, shuffle=False)"
      ],
      "metadata": {
        "id": "oB2V-k_LT_PZ"
      },
      "execution_count": null,
      "outputs": []
    },
    {
      "cell_type": "code",
      "source": [
        "def build_model():\n",
        "  model = tf.keras.models.Sequential([\n",
        "      tf.keras.layers.Input(shape=(4)),\n",
        "      tf.keras.layers.Dense(16, activation='relu'),\n",
        "      tf.keras.layers.Dense(8, activation='relu'),\n",
        "      tf.keras.layers.Dense(4, activation='relu'),\n",
        "      tf.keras.layers.Dense(1, activation='sigmoid')\n",
        "  ])\n",
        "  optimizer = tf.keras.optimizers.Adamax(0.0001)\n",
        "  model.compile(loss='mae',\n",
        "                optimizer=optimizer,\n",
        "                metrics=['mse'])\n",
        "  return model"
      ],
      "metadata": {
        "id": "TEofCwqCsevE"
      },
      "execution_count": null,
      "outputs": []
    },
    {
      "cell_type": "code",
      "source": [
        "model = build_model()"
      ],
      "metadata": {
        "id": "wgeQo3B_tRob"
      },
      "execution_count": null,
      "outputs": []
    },
    {
      "cell_type": "code",
      "source": [
        "model.summary()"
      ],
      "metadata": {
        "id": "XPXSou_DtUYY"
      },
      "execution_count": null,
      "outputs": []
    },
    {
      "cell_type": "code",
      "source": [
        "data_train = model.fit(X_train, y_train, epochs=1400, batch_size=1000, shuffle=False, validation_split=0.2)"
      ],
      "metadata": {
        "id": "C1x__Vu8tXtn"
      },
      "execution_count": null,
      "outputs": []
    },
    {
      "cell_type": "code",
      "source": [
        "def plot_history(history, title, xlabel, ylabel):\n",
        "  plt.figure(figsize=(10, 6))\n",
        "  plt.plot(history.history['loss'], 'r')\n",
        "  plt.plot(history.history['mse'], 'b')\n",
        "  plt.plot(history.history['val_loss'], 'g')\n",
        "  plt.plot(history.history['val_mse'], 'y')\n",
        "  plt.title(title)\n",
        "  plt.xlabel(xlabel)\n",
        "  plt.ylabel(ylabel)\n",
        "  plt.legend(['mae', 'mse', 'val_mae', 'val_mse'], loc='upper right')\n",
        "  plt.show()"
      ],
      "metadata": {
        "id": "j5BDw7cnxWNY"
      },
      "execution_count": null,
      "outputs": []
    },
    {
      "cell_type": "code",
      "source": [
        "plot_history(data_train, 'Plot Training', 'epochs', 'mae, mse, val_mae dan val_mse')"
      ],
      "metadata": {
        "id": "UTUtPNiDyGZo"
      },
      "execution_count": null,
      "outputs": []
    },
    {
      "cell_type": "code",
      "source": [
        "data_test = model.evaluate(X_test, y_test)"
      ],
      "metadata": {
        "id": "KWA7wBC5ycmB"
      },
      "execution_count": null,
      "outputs": []
    },
    {
      "cell_type": "code",
      "source": [
        "data_prediksi = model.predict(dataframe_fitur)"
      ],
      "metadata": {
        "id": "TZTNugbpypGe"
      },
      "execution_count": null,
      "outputs": []
    },
    {
      "cell_type": "code",
      "source": [
        "predicted_data = pd.DataFrame(data_prediksi, columns=['Predicted'])"
      ],
      "metadata": {
        "id": "vGFfK0n5y9cX"
      },
      "execution_count": null,
      "outputs": []
    },
    {
      "cell_type": "code",
      "source": [
        "Voltage = cc_dc['Voltage(V)']"
      ],
      "metadata": {
        "id": "cvFDUXGVzGoq"
      },
      "execution_count": null,
      "outputs": []
    },
    {
      "cell_type": "code",
      "source": [
        "data_Voltage = pd.DataFrame(Voltage, columns=['Voltage(V)'])"
      ],
      "metadata": {
        "id": "6d8seR_-zgLU"
      },
      "execution_count": null,
      "outputs": []
    },
    {
      "cell_type": "code",
      "source": [
        "predicted_SoC = scaler.inverse_transform(predicted_data)"
      ],
      "metadata": {
        "id": "jtzII6XRzoKY"
      },
      "execution_count": null,
      "outputs": []
    },
    {
      "cell_type": "code",
      "source": [
        "def plot_prediksi(step, voltage, judul, sb_x, sb_y):\n",
        "  plt.figure(figsize=(15, 6))\n",
        "  plt.scatter(step, voltage, c='#fc0303')\n",
        "  plt.rcParams['lines.linewidth'] == 43\n",
        "  plt.rcParams['lines.linestyle'] == '-'\n",
        "  plt.rcParams['lines.markersize']**0.5\n",
        "  plt.title(judul)\n",
        "  plt.xlabel(sb_x)\n",
        "  plt.ylabel(sb_y)\n",
        "  plt.show()\n",
        "  return plt"
      ],
      "metadata": {
        "id": "zQD3wHYqzvHo"
      },
      "execution_count": null,
      "outputs": []
    },
    {
      "cell_type": "code",
      "source": [
        "plot_prediksi(predicted_SoC, data_Voltage, 'SoC', 'SoC Prediksi', 'Voltage(V)')"
      ],
      "metadata": {
        "id": "xuZrrfC5z37H"
      },
      "execution_count": null,
      "outputs": []
    }
  ],
  "metadata": {
    "colab": {
      "provenance": [],
      "authorship_tag": "ABX9TyM0LahB542Wfbkx0x1XoJyZ",
      "include_colab_link": true
    },
    "kernelspec": {
      "display_name": "Python 3",
      "name": "python3"
    },
    "language_info": {
      "name": "python"
    }
  },
  "nbformat": 4,
  "nbformat_minor": 0
}